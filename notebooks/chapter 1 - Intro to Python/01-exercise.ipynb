{
 "cells": [
  {
   "cell_type": "markdown",
   "metadata": {},
   "source": [
    "# Exercise 1\n",
    "\n",
    "Hints:\n",
    "- Run the cells by clicking in the cell you want to run, and pressing `ctrl + enter`\n",
    "- Remember to run the cells in sequence, to make sure the variables are initialized\n",
    "- Changing a cell, and re-running it, would also require re-running the dependent cells."
   ]
  },
  {
   "cell_type": "markdown",
   "metadata": {},
   "source": [
    "## 1. Calculating Compound Interest\n",
    "\n",
    "Implement the compound interest formula in Python:\n",
    "$$A = P(1+ \\frac{r}{n})^{nt}$$\n",
    "\n",
    "Where\n",
    "\n",
    "$P$ = Initial Principal Amount (Dollars)\n",
    "\n",
    "$r$ = Interest rate (decimal)\n",
    "\n",
    "$n$ = number of times interest applied per time period \n",
    "\n",
    "$t$ = number of time periods elapsed \n",
    "\n",
    "$A$ = final amount\n",
    "\n",
    "Tips:\n",
    "- set up statements to assign input values to variables\n",
    "- use the arithmetic operators to create the main function to calculate the final amount\n"
   ]
  },
  {
   "cell_type": "markdown",
   "metadata": {},
   "source": [
    "## 2. check of one value is divisible by another\n",
    "example 1:\n",
    "- x = 10\n",
    "- y = 5\n",
    "- expected output = True\n",
    "\n",
    "example 2:\n",
    "- x = 7\n",
    "- y = 2\n",
    "- expected output = False"
   ]
  },
  {
   "cell_type": "markdown",
   "metadata": {},
   "source": [
    "## 3. Remove one character from a string\n",
    "\n",
    "Sample string: \"32,054,230.10\"\n",
    "\n",
    "Expected Output: \"32054230.10\""
   ]
  },
  {
   "cell_type": "markdown",
   "metadata": {},
   "source": [
    "## 4. Remove the nth index character from a string\n",
    "\n",
    "### example:\n",
    "n = 3\n",
    "\n",
    "string = \"Python\"\n",
    "\n",
    "expected result = \"Pyton\""
   ]
  },
  {
   "cell_type": "markdown",
   "metadata": {},
   "source": [
    "## 5. Capitalize first and last character of a given String\n",
    "\n",
    "Sample word: \"python\"\n",
    "\n",
    "Expected Output: \"PythoN\""
   ]
  },
  {
   "cell_type": "markdown",
   "metadata": {},
   "source": [
    "## 6. Format a number as a percentage \n",
    "\n",
    "### example:\n",
    "number = 0.25\n",
    "\n",
    "expected output = \"25.0%\"\n",
    "\n",
    "Hint: you would need to use the `str()` function to convert the number into a string"
   ]
  },
  {
   "cell_type": "markdown",
   "metadata": {},
   "source": [
    "## 7. Format percentage into number\n",
    "### example:\n",
    "number = \"25.0%\"\n",
    "\n",
    "expected output = 0.25\n",
    "\n",
    "Hint: you would need to use the `float()` function to convert the string to number"
   ]
  },
  {
   "cell_type": "markdown",
   "metadata": {},
   "source": [
    "## 8. Simple Data Masking\n",
    "\n",
    "input string: \"The secret code is: python\"\n",
    "\n",
    "Word to mask: \"python\"\n",
    "\n",
    "expected output = `\"The secret code is: ******\"`"
   ]
  }
 ],
 "metadata": {
  "kernelspec": {
   "display_name": "Python 3",
   "language": "python",
   "name": "python3"
  },
  "language_info": {
   "codemirror_mode": {
    "name": "ipython",
    "version": 3
   },
   "file_extension": ".py",
   "mimetype": "text/x-python",
   "name": "python",
   "nbconvert_exporter": "python",
   "pygments_lexer": "ipython3",
   "version": "3.7.7"
  }
 },
 "nbformat": 4,
 "nbformat_minor": 4
}
