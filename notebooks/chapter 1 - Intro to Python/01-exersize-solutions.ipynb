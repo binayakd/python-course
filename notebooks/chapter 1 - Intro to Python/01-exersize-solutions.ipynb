{
 "cells": [
  {
   "cell_type": "markdown",
   "metadata": {},
   "source": [
    "# Exercise 1\n",
    "\n",
    "Hints:\n",
    "- Run the cells by clicking in the cell you want to run, and pressing `ctrl + enter`\n",
    "- Remember to run the cells in sequence, to make sure the variables are initialized\n",
    "- Changing a cell, and re-running it, would also require re-running the dependent cells.\n",
    "- Some of the exercises would need the have read lesson 02 from the Intro-to-Python section found here: https://gitlab.erc.monash.edu.au/andrease/Python4Maths/-/blob/master/Intro-to-Python/02.ipynb"
   ]
  },
  {
   "cell_type": "markdown",
   "metadata": {},
   "source": [
    "## 1. Calculating Compound Interest\n",
    "\n",
    "Implement the compound interest formula in Python:\n",
    "$$A = P(1+ \\frac{r}{n})^{nt}$$\n",
    "\n",
    "Where\n",
    "\n",
    "$P$ = Initial Principal Amount (Dollars)\n",
    "\n",
    "$r$ = Interest rate (decimal)\n",
    "\n",
    "$n$ = number of times interest applied per time period \n",
    "\n",
    "$t$ = number of time periods elapsed \n",
    "\n",
    "$A$ = final amount\n",
    "\n",
    "Tips:\n",
    "- set up statements to assign input values to variables\n",
    "- use the arithmetic operators to create the main function to calculate the final amount\n"
   ]
  },
  {
   "cell_type": "code",
   "execution_count": 1,
   "metadata": {},
   "outputs": [
    {
     "name": "stdout",
     "output_type": "stream",
     "text": [
      "4467.744314006109\n"
     ]
    }
   ],
   "source": [
    "P = 1000\n",
    "r = 0.05\n",
    "n = 12\n",
    "t = 30\n",
    "\n",
    "A = P*(1+(r/n))**(n*t)\n",
    "print(A)"
   ]
  },
  {
   "cell_type": "markdown",
   "metadata": {},
   "source": [
    "## 2. check of one value is divisible by another\n",
    "example 1:\n",
    "- x = 10\n",
    "- y = 5\n",
    "- expected output = True\n",
    "\n",
    "example 2:\n",
    "- x = 7\n",
    "- y = 2\n",
    "- expected output = False"
   ]
  },
  {
   "cell_type": "code",
   "execution_count": 24,
   "metadata": {},
   "outputs": [
    {
     "data": {
      "text/plain": [
       "True"
      ]
     },
     "execution_count": 24,
     "metadata": {},
     "output_type": "execute_result"
    }
   ],
   "source": [
    "x = 10\n",
    "y = 5\n",
    "\n",
    "10%5 == 0"
   ]
  },
  {
   "cell_type": "code",
   "execution_count": 25,
   "metadata": {},
   "outputs": [
    {
     "data": {
      "text/plain": [
       "False"
      ]
     },
     "execution_count": 25,
     "metadata": {},
     "output_type": "execute_result"
    }
   ],
   "source": [
    "x = 7\n",
    "y = 2\n",
    "\n",
    "7/2 == 0"
   ]
  },
  {
   "cell_type": "markdown",
   "metadata": {},
   "source": [
    "## 3. Remove one character from a string\n",
    "\n",
    "Sample string: \"32,054,230.10\"\n",
    "\n",
    "Expected Output: \"32054230.10\""
   ]
  },
  {
   "cell_type": "code",
   "execution_count": 19,
   "metadata": {},
   "outputs": [
    {
     "name": "stdout",
     "output_type": "stream",
     "text": [
      "32054230.10\n",
      "True\n"
     ]
    }
   ],
   "source": [
    "input = \"32,054,230.10\"\n",
    "print(input.replace(\",\", \"\"))\n",
    "print(input.replace(\",\", \"\") == \"32054230.10\")"
   ]
  },
  {
   "cell_type": "markdown",
   "metadata": {},
   "source": [
    "## 4. Remove the nth index character from a string\n",
    "\n",
    "### example:\n",
    "n = 3\n",
    "\n",
    "string = \"Python\"\n",
    "\n",
    "expected result = \"Pyton\""
   ]
  },
  {
   "cell_type": "code",
   "execution_count": 11,
   "metadata": {},
   "outputs": [
    {
     "data": {
      "text/plain": [
       "'Pyton'"
      ]
     },
     "execution_count": 11,
     "metadata": {},
     "output_type": "execute_result"
    }
   ],
   "source": [
    "n = 3\n",
    "string = \"Python\"\n",
    "\n",
    "first_part = string[:n]\n",
    "second_part = string[n+1:]\n",
    "first_part+second_part"
   ]
  },
  {
   "cell_type": "markdown",
   "metadata": {},
   "source": [
    "## 5. Capitalize first and last character of a given String\n",
    "\n",
    "Sample word: \"python\"\n",
    "\n",
    "Expected Output: \"PythoN\""
   ]
  },
  {
   "cell_type": "code",
   "execution_count": 22,
   "metadata": {},
   "outputs": [
    {
     "data": {
      "text/plain": [
       "'PythoN'"
      ]
     },
     "execution_count": 22,
     "metadata": {},
     "output_type": "execute_result"
    }
   ],
   "source": [
    "input = \"python\"\n",
    "\n",
    "first_letter = input[:1]\n",
    "last_letter = input[-1:]\n",
    "middle = input[1:-1]\n",
    "first_letter.upper() + middle + last_letter.upper()"
   ]
  },
  {
   "cell_type": "markdown",
   "metadata": {},
   "source": [
    "## 6. Format a number as a percentage \n",
    "\n",
    "### example:\n",
    "number = 0.25\n",
    "\n",
    "expected output = \"25.0%\"\n",
    "\n",
    "Hint: you would need to use the `str()` function to convert the number into a string"
   ]
  },
  {
   "cell_type": "code",
   "execution_count": 20,
   "metadata": {},
   "outputs": [
    {
     "data": {
      "text/plain": [
       "'25.0%'"
      ]
     },
     "execution_count": 20,
     "metadata": {},
     "output_type": "execute_result"
    }
   ],
   "source": [
    "number = 0.25\n",
    "\n",
    "percent = number*100\n",
    "str(percent) + \"%\""
   ]
  },
  {
   "cell_type": "markdown",
   "metadata": {},
   "source": [
    "## 7. Format percentage into number\n",
    "### example:\n",
    "number = \"25.0%\"\n",
    "\n",
    "expected output = 0.25\n",
    "\n",
    "Hint: you would need to use the `float()` function to convert the string to number"
   ]
  },
  {
   "cell_type": "code",
   "execution_count": 23,
   "metadata": {},
   "outputs": [
    {
     "data": {
      "text/plain": [
       "0.25"
      ]
     },
     "execution_count": 23,
     "metadata": {},
     "output_type": "execute_result"
    }
   ],
   "source": [
    "input = \"25.0%\"\n",
    "\n",
    "percentage_sign_removed = input[:-1]\n",
    "float(percentage_sign_removed)/100"
   ]
  },
  {
   "cell_type": "markdown",
   "metadata": {},
   "source": [
    "## 8. Simple Data Masking\n",
    "\n",
    "input string: \"The secret code is: python\"\n",
    "\n",
    "Word to mask: \"python\"\n",
    "\n",
    "expected output = `\"The secret code is: ******\"`"
   ]
  },
  {
   "cell_type": "code",
   "execution_count": 27,
   "metadata": {},
   "outputs": [
    {
     "data": {
      "text/plain": [
       "'The secret code is: ******'"
      ]
     },
     "execution_count": 27,
     "metadata": {},
     "output_type": "execute_result"
    }
   ],
   "source": [
    "input_string = \"The secret code is: python\"\n",
    "word_to_mask = \"python\"\n",
    "\n",
    "mask_string = \"*\" * len(word_to_mask)\n",
    "input_string.replace(word_to_mask, mask_string)"
   ]
  }
 ],
 "metadata": {
  "kernelspec": {
   "display_name": "Python 3",
   "language": "python",
   "name": "python3"
  },
  "language_info": {
   "codemirror_mode": {
    "name": "ipython",
    "version": 3
   },
   "file_extension": ".py",
   "mimetype": "text/x-python",
   "name": "python",
   "nbconvert_exporter": "python",
   "pygments_lexer": "ipython3",
   "version": "3.7.7"
  }
 },
 "nbformat": 4,
 "nbformat_minor": 4
}
