{
 "cells": [
  {
   "cell_type": "markdown",
   "metadata": {},
   "source": [
    "# Getting started\n",
    "\n",
    "Python can be used like a calculator. Simply type in expressions to get them evaluated.\n",
    "\n",
    "## Basic syntax for statements \n",
    "The basic rules for writing simple statments and expressions in Python are:\n",
    "* No spaces or tab characters allowed at the start of a statement: Indentation plays a special role in Python (see the section on control statements). For now simply ensure that all statements start at the beginning of the line.\n",
    "* The '#' character indicates that the rest of the line is a comment\n",
    "* Statements finish at the end of the line:\n",
    "  * Except when there is an open bracket or paranthesis:\n",
    " \n",
    "```python\n",
    "1+2\n",
    "+3  #illegal continuation of the sum\n",
    "(1+2\n",
    "             + 3) # perfectly OK even with spaces\n",
    "```\n",
    "\n",
    "  * A single backslash at the end of the line can also be used to indicate that a statement is still incomplete  \n",
    " \n",
    "```python\n",
    "1 + \\\n",
    "   2 + 3 # this is also OK\n",
    "```\n",
    "\n",
    "The jupyter notebook system for writting Python intersperses text (like this) with Python statements. Try typing something into the cell (box) below and press the 'Run' button above to execute it. We will discuss operators that can be used in such operations further below, but for numbers these are mostly fairly obvious."
   ]
  },
  {
   "cell_type": "code",
   "execution_count": 2,
   "metadata": {
    "scrolled": true
   },
   "outputs": [
    {
     "name": "stdout",
     "output_type": "stream",
     "text": [
      "4\n"
     ]
    }
   ],
   "source": [
    "# this is a comment\n",
    "x = 4\n",
    "print(x)"
   ]
  },
  {
   "cell_type": "code",
   "execution_count": 6,
   "metadata": {},
   "outputs": [
    {
     "data": {
      "text/plain": [
       "3"
      ]
     },
     "execution_count": 6,
     "metadata": {},
     "output_type": "execute_result"
    }
   ],
   "source": [
    "1+4\n",
    "+3"
   ]
  },
  {
   "cell_type": "code",
   "execution_count": 7,
   "metadata": {},
   "outputs": [
    {
     "ename": "IndentationError",
     "evalue": "unexpected indent (<ipython-input-7-b32cc8339f13>, line 2)",
     "output_type": "error",
     "traceback": [
      "\u001b[1;36m  File \u001b[1;32m\"<ipython-input-7-b32cc8339f13>\"\u001b[1;36m, line \u001b[1;32m2\u001b[0m\n\u001b[1;33m    +3\u001b[0m\n\u001b[1;37m    ^\u001b[0m\n\u001b[1;31mIndentationError\u001b[0m\u001b[1;31m:\u001b[0m unexpected indent\n"
     ]
    }
   ],
   "source": [
    "1+2\n",
    "       +3"
   ]
  },
  {
   "cell_type": "code",
   "execution_count": 8,
   "metadata": {},
   "outputs": [
    {
     "data": {
      "text/plain": [
       "6"
      ]
     },
     "execution_count": 8,
     "metadata": {},
     "output_type": "execute_result"
    }
   ],
   "source": [
    "(1+2\n",
    "       +3)"
   ]
  },
  {
   "cell_type": "code",
   "execution_count": 11,
   "metadata": {},
   "outputs": [
    {
     "data": {
      "text/plain": [
       "10"
      ]
     },
     "execution_count": 11,
     "metadata": {},
     "output_type": "execute_result"
    }
   ],
   "source": [
    "1 + \\\n",
    "   2 + 3 +\\\n",
    "           4"
   ]
  },
  {
   "cell_type": "markdown",
   "metadata": {},
   "source": [
    "## Data Types\n",
    "### Numbers"
   ]
  },
  {
   "cell_type": "code",
   "execution_count": 13,
   "metadata": {},
   "outputs": [
    {
     "name": "stdout",
     "output_type": "stream",
     "text": [
      "5 is of type <class 'int'>\n"
     ]
    }
   ],
   "source": [
    "a = 5\n",
    "print(a, \"is of type\", type(a))"
   ]
  },
  {
   "cell_type": "code",
   "execution_count": 15,
   "metadata": {},
   "outputs": [
    {
     "name": "stdout",
     "output_type": "stream",
     "text": [
      "12345678912345678123451234 is of type <class 'int'>\n"
     ]
    }
   ],
   "source": [
    "a1 = 12345678912345678123451234 \n",
    "print(a1, \"is of type\", type(a1))"
   ]
  },
  {
   "cell_type": "code",
   "execution_count": 22,
   "metadata": {},
   "outputs": [
    {
     "name": "stdout",
     "output_type": "stream",
     "text": [
      "2.0645 is of type <class 'float'>\n"
     ]
    }
   ],
   "source": [
    "b = 2.0645\n",
    "print(b, \"is of type\", type(b))"
   ]
  },
  {
   "cell_type": "code",
   "execution_count": 24,
   "metadata": {},
   "outputs": [
    {
     "name": "stdout",
     "output_type": "stream",
     "text": [
      "(1+2j) is of type <class 'complex'>\n"
     ]
    }
   ],
   "source": [
    "c = 1+2j\n",
    "print(c, \"is of type\", type(c))"
   ]
  },
  {
   "cell_type": "markdown",
   "metadata": {},
   "source": [
    "### Strings\n",
    "#### Creating Strings"
   ]
  },
  {
   "cell_type": "code",
   "execution_count": 26,
   "metadata": {},
   "outputs": [
    {
     "name": "stdout",
     "output_type": "stream",
     "text": [
      "This is string one\n"
     ]
    }
   ],
   "source": [
    "string1 = \"This is string one\"\n",
    "print(string1)"
   ]
  },
  {
   "cell_type": "code",
   "execution_count": 16,
   "metadata": {},
   "outputs": [
    {
     "name": "stdout",
     "output_type": "stream",
     "text": [
      "This is string two\n"
     ]
    }
   ],
   "source": [
    "string2 = 'This is string two'\n",
    "print(string2)"
   ]
  },
  {
   "cell_type": "code",
   "execution_count": 19,
   "metadata": {},
   "outputs": [
    {
     "name": "stdout",
     "output_type": "stream",
     "text": [
      "it's a string\n"
     ]
    }
   ],
   "source": [
    "string3 = \"it's a string\"\n",
    "print(string3)"
   ]
  },
  {
   "cell_type": "code",
   "execution_count": 21,
   "metadata": {},
   "outputs": [
    {
     "name": "stdout",
     "output_type": "stream",
     "text": [
      "it's a \"string\"\n"
     ]
    }
   ],
   "source": [
    "string4 = 'it\\'s a \"string\"'\n",
    "print(string4)"
   ]
  },
  {
   "cell_type": "code",
   "execution_count": 24,
   "metadata": {},
   "outputs": [
    {
     "name": "stdout",
     "output_type": "stream",
     "text": [
      "This \n",
      "is\n",
      "a\n",
      "mulitiline\n",
      "string.\n",
      "\n"
     ]
    }
   ],
   "source": [
    "string3 = '''This \n",
    "is\n",
    "a\n",
    "mulitiline\n",
    "string.\n",
    "'''\n",
    "print(string3)"
   ]
  },
  {
   "cell_type": "code",
   "execution_count": 25,
   "metadata": {},
   "outputs": [
    {
     "name": "stdout",
     "output_type": "stream",
     "text": [
      "This \n",
      "is\n",
      "a\n",
      "mulitiline\n",
      "string.\n",
      "\n"
     ]
    }
   ],
   "source": [
    "string3 = \"\"\"This \n",
    "is\n",
    "a\n",
    "mulitiline\n",
    "string.\n",
    "\"\"\"\n",
    "\n",
    "print(string3)"
   ]
  },
  {
   "cell_type": "markdown",
   "metadata": {},
   "source": [
    "#### String Methods"
   ]
  },
  {
   "cell_type": "code",
   "execution_count": 31,
   "metadata": {},
   "outputs": [
    {
     "name": "stdout",
     "output_type": "stream",
     "text": [
      "Length of string1: 18\n"
     ]
    }
   ],
   "source": [
    "# length of strings\n",
    "string1 = \"This is string one\"\n",
    "length_of_string1 = len(string1)\n",
    "print(\"Length of string1:\",  len(string1))"
   ]
  },
  {
   "cell_type": "code",
   "execution_count": 32,
   "metadata": {},
   "outputs": [
    {
     "name": "stdout",
     "output_type": "stream",
     "text": [
      "this string has upper and lower case\n"
     ]
    }
   ],
   "source": [
    "# lower case\n",
    "multi_case_string = \"This String Has Upper AND Lower Case\"\n",
    "print(multi_case_string.lower())"
   ]
  },
  {
   "cell_type": "code",
   "execution_count": 34,
   "metadata": {},
   "outputs": [
    {
     "name": "stdout",
     "output_type": "stream",
     "text": [
      "this string has upper and lower case\n"
     ]
    }
   ],
   "source": [
    "# upper case\n",
    "print(multi_case_string.upper())"
   ]
  },
  {
   "cell_type": "code",
   "execution_count": 38,
   "metadata": {},
   "outputs": [
    {
     "name": "stdout",
     "output_type": "stream",
     "text": [
      "['This is a string', ' that has a comma.']\n",
      "This is a string\n",
      " that has a comma.\n"
     ]
    }
   ],
   "source": [
    "# Split String\n",
    "string_with_comma = \"This is a string, that has a comma.\"\n",
    "split_string_list = string_with_comma.split(\",\")\n",
    "\n",
    "print(split_string_list)\n",
    "print(split_string_list[0])\n",
    "print(split_string_list[1])"
   ]
  },
  {
   "cell_type": "code",
   "execution_count": 35,
   "metadata": {},
   "outputs": [
    {
     "name": "stdout",
     "output_type": "stream",
     "text": [
      "['This', 'is', 'a', 'string,', 'that', 'has', 'a', 'comma.']\n",
      "This\n",
      "is\n"
     ]
    }
   ],
   "source": [
    "# Split String\n",
    "string_with_comma = \"This is a string, that has a comma.\"\n",
    "split_string_list = string_with_comma.split()\n",
    "\n",
    "print(split_string_list)\n",
    "print(split_string_list[0])\n",
    "print(split_string_list[1])"
   ]
  },
  {
   "cell_type": "code",
   "execution_count": 36,
   "metadata": {},
   "outputs": [
    {
     "data": {
      "text/plain": [
       "'This'"
      ]
     },
     "execution_count": 36,
     "metadata": {},
     "output_type": "execute_result"
    }
   ],
   "source": [
    "string_with_comma.split()[0]"
   ]
  },
  {
   "cell_type": "markdown",
   "metadata": {},
   "source": [
    "## Operators\n",
    "### Arithmetic Operators\n",
    "| Symbol | Task Performed |\n",
    "|--------|-----------------|\n",
    "| +      | Addition       |\n",
    "| -      | Subtraction    |\n",
    "| /      | Division       |\n",
    "| //     | Integer division |\n",
    "| %  | Modulus (remainder) |\n",
    "| *  | Multiplication |\n",
    "| **  | Exponentiation (power) |\n",
    "\n",
    "As expected these operations generally promote to the most general type of any of the numbers involved i.e. int -> float -> complex."
   ]
  },
  {
   "cell_type": "code",
   "execution_count": 41,
   "metadata": {},
   "outputs": [
    {
     "name": "stdout",
     "output_type": "stream",
     "text": [
      "x + y  = 19\n",
      "x - 1  = 11\n",
      "x / y  = 3.75\n",
      "x // y = 3\n",
      "x % y  = 3\n",
      "x * y  = 60\n",
      "x ** y = 50625\n"
     ]
    }
   ],
   "source": [
    "x = 15\n",
    "y = 4\n",
    "print('x + y  =', x+y)\n",
    "print('x - 1  =', x-y)\n",
    "print('x / y  =', x/y)\n",
    "print('x // y =', x//y)\n",
    "print('x % y  =', x % y)\n",
    "print('x * y  =', x*y)\n",
    "print('x ** y =', x**y)"
   ]
  },
  {
   "cell_type": "markdown",
   "metadata": {},
   "source": [
    "### Comparison Operators\n",
    "| Symbol | Task Performed |\n",
    "|----|---|\n",
    "| ==  | Equal |\n",
    "| !=  | No equal |\n",
    "| >  | Greater than |\n",
    "| <  | Less than |\n",
    "| >=  | Greater than or equal to |\n",
    "| <= | Less than or equal to|\n"
   ]
  },
  {
   "cell_type": "code",
   "execution_count": 47,
   "metadata": {},
   "outputs": [
    {
     "name": "stdout",
     "output_type": "stream",
     "text": [
      "x > y  is False\n",
      "x < y  is True\n",
      "x == y is False\n",
      "x != y is True\n"
     ]
    }
   ],
   "source": [
    "x = 10\n",
    "y = 12\n",
    "\n",
    "print('x > y  is', x>y)\n",
    "print('x < y  is', x<y)\n",
    "print('x == y is', x==y)\n",
    "print('x != y is', x!=y)"
   ]
  },
  {
   "cell_type": "code",
   "execution_count": 48,
   "metadata": {},
   "outputs": [
    {
     "data": {
      "text/plain": [
       "True"
      ]
     },
     "execution_count": 48,
     "metadata": {},
     "output_type": "execute_result"
    }
   ],
   "source": [
    "x < y\n"
   ]
  },
  {
   "cell_type": "markdown",
   "metadata": {},
   "source": [
    "### Logical Operators\n",
    "| Symbol | Task Performed |\n",
    "|----|---|\n",
    "| and  | True if both statments are true |\n",
    "| or  | True if one of the statments are True |\n",
    "| not  | Reverse the results, True becomes False, False becomes True |"
   ]
  },
  {
   "cell_type": "code",
   "execution_count": 50,
   "metadata": {},
   "outputs": [
    {
     "name": "stdout",
     "output_type": "stream",
     "text": [
      "x and y is False\n",
      "x or y  is True\n",
      "not x   is False\n"
     ]
    }
   ],
   "source": [
    "x = True\n",
    "y = False\n",
    "\n",
    "print('x and y is', x and y)\n",
    "print('x or y  is', x or y) \n",
    "print('not x   is', not x)"
   ]
  },
  {
   "cell_type": "code",
   "execution_count": 55,
   "metadata": {},
   "outputs": [
    {
     "data": {
      "text/plain": [
       "True"
      ]
     },
     "execution_count": 55,
     "metadata": {},
     "output_type": "execute_result"
    }
   ],
   "source": [
    "a = True\n",
    "b = False\n",
    "\n",
    "not b"
   ]
  },
  {
   "cell_type": "code",
   "execution_count": 57,
   "metadata": {},
   "outputs": [
    {
     "data": {
      "text/plain": [
       "True"
      ]
     },
     "execution_count": 57,
     "metadata": {},
     "output_type": "execute_result"
    }
   ],
   "source": [
    "x = 11\n",
    "y = 5\n",
    "a = 10\n",
    "b = 12\n",
    "\n",
    "x > y and a < b"
   ]
  }
 ],
 "metadata": {
  "kernelspec": {
   "display_name": "Python 3",
   "language": "python",
   "name": "python3"
  },
  "language_info": {
   "codemirror_mode": {
    "name": "ipython",
    "version": 3
   },
   "file_extension": ".py",
   "mimetype": "text/x-python",
   "name": "python",
   "nbconvert_exporter": "python",
   "pygments_lexer": "ipython3",
   "version": "3.7.7"
  }
 },
 "nbformat": 4,
 "nbformat_minor": 4
}
